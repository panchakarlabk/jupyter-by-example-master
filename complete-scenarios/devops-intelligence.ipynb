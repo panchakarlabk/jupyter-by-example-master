{
 "cells": [
  {
   "cell_type": "markdown",
   "metadata": {},
   "source": [
    "# JupyterHub Showcase: DevOps Intelligence\n",
    "\n",
    "<img src=\"img/jhub-devops-intelligence.png\" style=\"width: 95%; margin: 0;\"></img>\n",
    "\n",
    "<img src=\"https://avatars3.githubusercontent.com/u/1068245?s=40\" alt=\"Avatar\" style=\"float: left; padding-right:1rem; padding-bottom:.5rem;\"></img>\n",
    "📝 [Jürgen Hermann](https://twitter.com/jhermann_) · 📧 jh@web.de\n",
    "<br />🗓️ March 2019\n",
    "\n",
    "*DevOps Intelligence* turns data from software development and delivery processes into actionable insight, just like BI does for the business side. Jupyter is the ideal instrument for that, with its combination of powerful coding environments and a user interface facilitating experimentation with ultra-short feedback cycles.\n",
    "<img src=\"img/jhub-logo-342px.png\" style=\"float: right; padding-left: 1em;\"></img>\n",
    "\n",
    "A Jupyter-based setup supports risk analysis and decision making within development and operations processes – typical business intelligence / data science procedures can be applied to the ‘business of making and running software’. The idea is to create feedback loops, and facilitate human decision making by automatically providing reliable input in form of up-to-date facts. After all development is our business — so let's have KPIs for developing, releasing, and operating software."
   ]
  },
  {
   "cell_type": "markdown",
   "metadata": {},
   "source": [
    "## Typical Use-Cases\n",
    "\n",
    "Here are some obvious application areas where data analysis can be helpful on the technical side.\n",
    "\n",
    "* Migration processes of all kinds (current state, progress tracking, achievement of objectives)\n",
    "* Inventory reporting for increased transparency and support of operational decisions\n",
    "* Automate internal reporting processes to free up scarce assets and human expertise"
   ]
  },
  {
   "cell_type": "markdown",
   "metadata": {},
   "source": [
    "## Platform Architecture\n",
    "\n",
    "A simple [JupyterHub](https://jupyter.org/hub) setup can enable you to do analysis on your already available but under-used and hardly understood data, without any great investment of effort or capital. By adding a single JupyterHub host, you can use the built-in Python3 kernel to access existing internal data sources.\n",
    "\n",
    "The following diagram shows what role JupyterHub can play in an existing environment."
   ]
  },
  {
   "cell_type": "markdown",
   "metadata": {},
   "source": [
    "> ![DevOps Intelligence Architecture](https://github.com/1and1/debianized-jupyterhub/raw/master/docs/_static/img/devops-intelligence.png)"
   ]
  },
  {
   "cell_type": "markdown",
   "metadata": {},
   "source": [
    "To make such a deployment easy, the [1and1/debianized-jupyterhub](https://github.com/1and1/debianized-jupyterhub#jupyterhub-debian-packaging) project provides a JupyterHub service including a fully equipped Python3 kernel as a single Debian package – only Python3, NodeJS, and Chromium packages must be installed in addition to the `jupyterhub` one. If you raised an eyebrow on Chromium being in that list, it's used by JavaScript-based visualization frameworks to render PNG images.\n",
    "\n",
    "Including a [NginX-powered SSL off-loader](https://github.com/1and1/debianized-jupyterhub#securing-your-jupyterhub-web-service-with-an-ssl-off-loader), the [complete setup](https://github.com/1and1/debianized-jupyterhub#how-to-set-up-a-simple-service-instance) can be done in under an hour."
   ]
  },
  {
   "cell_type": "markdown",
   "metadata": {},
   "source": [
    "## Use-Case: Migration Reporting\n",
    "\n",
    "At the time of this writing (early 2019), a widespread challenge is migration from Oracle Java to other vendors, and also to start migration from Java 8 to newer versions (Java 11). If you do that at scale across many machines and teams, you definitely need some kind of governance, and constant feedback on the current status and the rate of progress."
   ]
  },
  {
   "cell_type": "markdown",
   "metadata": {},
   "source": [
    "What follows is an excerpt from a productive notebook, with anonymized data about [AdoptOpenJDK](https://adoptopenjdk.net/) deployments. That data was originally retrieved from a system called *“Patch Management Reporting”*, which collects information about installed packages for all hosts in the data center. We're in the yellow *“Data Sources”* box of the above figure here.\n",
    "\n",
    "First off, we read the data and show the value sets of categorical columns, plus a sample."
   ]
  },
  {
   "cell_type": "code",
   "execution_count": 1,
   "metadata": {},
   "outputs": [
    {
     "name": "stdout",
     "output_type": "stream",
     "text": [
      "♯ of Records: 104\n",
      "\n",
      "Distribution = ['Debian 8.10', 'Debian 8.11', 'Debian 8.6', 'Debian 8.9', 'Debian 9.6', 'Debian 9.7', 'Debian 9.8']\n",
      "Architecture = ['amd64']\n",
      "Environment = ['--', 'DEV', 'LIVE', 'QA']\n",
      "Team = ['Team Blue', 'Team Green', 'Team Red', 'Team Yellow']\n",
      "Installed version = ['11.0.2.9-83(amd64)', '11.0.2.9-85(amd64)', '8.202.b08-66(amd64)', '8.202.b08-83(amd64)', '8.202.b08-85(amd64)']\n",
      "\n",
      "                                    0                   1                   2\n",
      "CMDB_Id                     108380195           298205230           220678839\n",
      "Distribution              Debian 8.11          Debian 9.6         Debian 8.11\n",
      "Architecture                    amd64               amd64               amd64\n",
      "Environment                       DEV                  --                 DEV\n",
      "Team                         Team Red            Team Red            Team Red\n",
      "Last seen            2019-03-18 06:42    2019-03-18 06:42    2019-03-18 06:42\n",
      "Last modified        2019-03-18 06:42    2019-03-18 06:42    2019-03-18 06:42\n",
      "Installed version  11.0.2.9-83(amd64)  11.0.2.9-83(amd64)  11.0.2.9-83(amd64)\n"
     ]
    }
   ],
   "source": [
    "import numpy as np\n",
    "import pandas as pd\n",
    "\n",
    "raw_data = pd.read_csv(\"../data/cmdb-aoj.csv\", sep=',')\n",
    "print('♯ of Records: {}\\n'.format(len(raw_data)))\n",
    "\n",
    "for name in raw_data.columns[1:]:\n",
    "    if not name.startswith('Last '):\n",
    "        print(name, '=', list(sorted(set(raw_data[name].fillna('')))))\n",
    "\n",
    "print(); print(raw_data.head(3).transpose())"
   ]
  },
  {
   "cell_type": "markdown",
   "metadata": {},
   "source": [
    "Next comes the usual data cleanup. The `Distribution` column is a bit diverse, and not everyone has Debian codenames and associated major versions memorized. The `map_distro` function fixes that."
   ]
  },
  {
   "cell_type": "code",
   "execution_count": 2,
   "metadata": {},
   "outputs": [],
   "source": [
    "def map_distro(name):\n",
    "    \"\"\"Helper to create canonical OS names.\"\"\"\n",
    "    return (name.split('.', 1)[0]\n",
    "        .replace('Debian 7', 'wheezy')\n",
    "        .replace('Debian 8', 'jessie')\n",
    "        .replace('Debian 9', 'stretch')\n",
    "        .replace('Debian 10', 'buster')\n",
    "        .replace('squeeze', 'Squeeze [6]')\n",
    "        .replace('wheezy', 'Wheezy [7]')\n",
    "        .replace('jessie', 'Jessie [8]')\n",
    "        .replace('stretch', 'Stretch [9]')\n",
    "        .replace('buster', 'Buster [10]')\n",
    "    )"
   ]
  },
  {
   "cell_type": "markdown",
   "metadata": {},
   "source": [
    "Together with other cleanup steps, the mapper function is applied in a [dfply](https://towardsdatascience.com/dplyr-style-data-manipulation-with-pipes-in-python-380dcb137000) pipeline. The result can be controlled by showing a sample of data points with unique version numbers."
   ]
  },
  {
   "cell_type": "code",
   "execution_count": 3,
   "metadata": {},
   "outputs": [
    {
     "name": "stdout",
     "output_type": "stream",
     "text": [
      "                       0            13            14            62  \\\n",
      "Distribution   Jessie [8]  Stretch [9]    Jessie [8]   Stretch [9]   \n",
      "Architecture        amd64        amd64         amd64         amd64   \n",
      "Environment           DEV          N/A           DEV           DEV   \n",
      "Team             Team Red    Team Blue      Team Red     Team Blue   \n",
      "Version       11.0.2.9-83  11.0.2.9-85  8.202.b08-83  8.202.b08-85   \n",
      "\n",
      "                        68  \n",
      "Distribution    Jessie [8]  \n",
      "Architecture         amd64  \n",
      "Environment            DEV  \n",
      "Team             Team Blue  \n",
      "Version       8.202.b08-66  \n"
     ]
    }
   ],
   "source": [
    "from dfply import *\n",
    "\n",
    "cleaned = (raw_data\n",
    "    >> mutate(Version=X['Installed version'].str.split('[()]', 1, expand=True)[0])\n",
    "    >> mutate(Environment=X.Environment\n",
    "              .fillna('--').str.replace('--', 'N/A').str.upper())\n",
    "    >> mutate(Distribution=X.Distribution.apply(map_distro))\n",
    "    >> drop(X.CMDB_Id, X['Last seen'], X['Last modified'], X['Installed version'])\n",
    ")\n",
    "\n",
    "print((cleaned >> distinct(X.Version)).transpose())"
   ]
  },
  {
   "cell_type": "markdown",
   "metadata": {},
   "source": [
    "Time to present the cleaned up data, starting with a table of teams and their number of installed packages. In the production notebook, an API of the corporate identity management is used to enrich the table with contact data of the team leads. Having the organizational data available also makes it possible to filter or aggregate the data by business units."
   ]
  },
  {
   "cell_type": "code",
   "execution_count": 4,
   "metadata": {},
   "outputs": [
    {
     "name": "stdout",
     "output_type": "stream",
     "text": [
      "          Team  Count\n",
      "0    Team Blue     42\n",
      "1   Team Green     16\n",
      "2     Team Red     45\n",
      "3  Team Yellow      1\n"
     ]
    }
   ],
   "source": [
    "counts = cleaned.groupby(['Team']).size()\n",
    "print(counts.reset_index(name='Count'))"
   ]
  },
  {
   "cell_type": "markdown",
   "metadata": {},
   "source": [
    "To create a heatmap of how diverse a team's version spectrum is, we calculate percentages of versions per team."
   ]
  },
  {
   "cell_type": "code",
   "execution_count": 5,
   "metadata": {},
   "outputs": [
    {
     "name": "stdout",
     "output_type": "stream",
     "text": [
      "        Team       Version  Count    Percent\n",
      "0  Team Blue   11.0.2.9-85      1   2.380952\n",
      "1  Team Blue  8.202.b08-66      1   2.380952\n",
      "2  Team Blue  8.202.b08-85     40  95.238095\n"
     ]
    }
   ],
   "source": [
    "percentage = cleaned.groupby(['Team', 'Version']).size().reset_index(name='Count')\n",
    "percentage = percentage.assign(Percent=\n",
    "    percentage.apply(lambda x: 100.0 * x[-1] / counts[x[0]], axis=1))\n",
    "print(percentage.head(3))"
   ]
  },
  {
   "cell_type": "markdown",
   "metadata": {},
   "source": [
    "[HoloViews](http://holoviews.org/) makes creating the heatmap including a label overlay a breeze."
   ]
  },
  {
   "cell_type": "code",
   "execution_count": 6,
   "metadata": {},
   "outputs": [
    {
     "data": {
      "text/html": [
       "<img src=\"img/aoj-heatmap.png?1553270693.777642\"></img>"
      ],
      "text/plain": [
       "<IPython.core.display.HTML object>"
      ]
     },
     "execution_count": 6,
     "metadata": {},
     "output_type": "execute_result"
    }
   ],
   "source": [
    "import holoviews as hv\n",
    "hv.extension('bokeh')\n",
    "publish = 1  # publishing or interactive mode?\n",
    "\n",
    "heatmap = hv.HeatMap(percentage[['Version', 'Team', 'Percent', 'Count']]).opts(\n",
    "    hv.opts.HeatMap(\n",
    "        title='Version Distribution by Team',\n",
    "        width=480, xrotation=25, \n",
    "        zlim=(0, 100), cmap='kbc_r', clipping_colors=dict(NaN='#ffffe0'),\n",
    "        colorbar=True, tools=['hover'], toolbar=None if publish else 'right',\n",
    "    )\n",
    ").sort()\n",
    "\n",
    "label_dimension = hv.Dimension('Percent', value_format=lambda x: '%.1f' % x)\n",
    "labels = hv.Labels(heatmap, vdims=label_dimension).opts(\n",
    "    hv.opts.Labels(\n",
    "        text_color='Percent', \n",
    "        text_font_size='10pt',\n",
    "        text_font_style='bold',\n",
    "    )\n",
    ")\n",
    "\n",
    "chart = heatmap * labels\n",
    "\n",
    "if publish:\n",
    "    import time\n",
    "    import phantomjs_bin\n",
    "    from IPython.display import HTML, clear_output\n",
    "\n",
    "    %env BOKEH_PHANTOMJS_PATH={phantomjs_bin.executable_path}\n",
    "    chart_img = 'img/aoj-heatmap.png'\n",
    "    hv.save(chart, chart_img)\n",
    "    chart = HTML('<img src=\"{}?{}\"></img>'.format(chart_img, time.time()))\n",
    "    clear_output()\n",
    "\n",
    "chart"
   ]
  },
  {
   "cell_type": "markdown",
   "metadata": {},
   "source": [
    "From the heatmap, you can easily glance whether a team uses predominantly one version, and how recent the used versions are."
   ]
  },
  {
   "cell_type": "markdown",
   "metadata": {},
   "source": [
    "## Conclusion\n",
    "\n",
    "Using a platform powered by [Project Jupyter](https://twitter.com/ProjectJupyter) and a big chunk of the scientific Python stack lets you easily mold your data into the shape you need, and then choose from a wide range of visualization options to bring your message across."
   ]
  }
 ],
 "metadata": {
  "kernelspec": {
   "display_name": "Python 3",
   "language": "python",
   "name": "python3"
  },
  "language_info": {
   "codemirror_mode": {
    "name": "ipython",
    "version": 3
   },
   "file_extension": ".py",
   "mimetype": "text/x-python",
   "name": "python",
   "nbconvert_exporter": "python",
   "pygments_lexer": "ipython3",
   "version": "3.6.8"
  }
 },
 "nbformat": 4,
 "nbformat_minor": 2
}
