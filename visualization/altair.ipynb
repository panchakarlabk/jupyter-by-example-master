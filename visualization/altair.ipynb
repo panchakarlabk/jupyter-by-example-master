{
 "cells": [
  {
   "cell_type": "markdown",
   "metadata": {},
   "source": [
    "# Data Visualization with Altair / Vega\n",
    "\n",
    "[Altair](https://altair-viz.github.io/) is a declarative statistical visualization library, based on the [Vega](http://vega.github.io/vega) and [Vega-Lite](http://vega.github.io/vega-lite) grammar of graphics.\n",
    "\n",
    "You need to install the `altair` and `vega` Python packages, plus possibly `vega_dataset` if you want to work on their examples. Altair needs at least Python 3.5.3.\n",
    "\n",
    "## Documentation\n",
    "\n",
    "The [main documentation](https://altair-viz.github.io/) includes an extensive user guide as well as a gallery and case studies, here are a few links to special topics that are often needed but somewhat hard to find.\n",
    "\n",
    "* [Mark definition parameters explained](https://altair-viz.github.io/user_guide/generated/core/altair.MarkDef.html#)\n",
    "* [X axis specifications](https://altair-viz.github.io/user_guide/generated/channels/altair.X.html)\n",
    "\n",
    "**Trainings**\n",
    "* [1-Hour Altair Tutorial](https://nbviewer.jupyter.org/github/kanitw/altair-tutorial/blob/master/ECS_Hackweek.ipynb)\n",
    "\n",
    "## Initialization\n",
    "\n",
    "To register the Altair renderer in the classic notebook, you need the following code (typically in your first code cell)."
   ]
  },
  {
   "cell_type": "code",
   "execution_count": 1,
   "metadata": {},
   "outputs": [],
   "source": [
    "import altair as alt\n",
    "\n",
    "# Enable Altair for notebooks (not needed for JupyterLab)\n",
    "_ = alt.renderers.enable('notebook')"
   ]
  },
  {
   "cell_type": "markdown",
   "metadata": {},
   "source": [
    "Note that this is not necessary with JupyterLab.\n",
    "\n",
    "To be able to render PNG images from Altair charts, you need some more prep work. Your Jupyter installation needs to have the `selenium` Python package installed (see the `setup` folder for hints on that), which in turn requires the `chromedriver` executable to work. \n",
    "\n",
    "The following code helps when you cannot install that program more globally, and instead download it into the folder of your notebook. That folder must then be added to the command search `PATH`, so the driver binary is found."
   ]
  },
  {
   "cell_type": "code",
   "execution_count": 2,
   "metadata": {},
   "outputs": [],
   "source": [
    "import os\n",
    "\n",
    "# Find a 'chromedriver' in the notebook's directory\n",
    "if os.getcwd() not in os.environ['PATH'].split(os.pathsep): \n",
    "    os.environ['PATH'] += os.pathsep + os.getcwd()"
   ]
  },
  {
   "cell_type": "markdown",
   "metadata": {},
   "source": [
    "A more automated way uses the [chromedriver-binary](https://pypi.org/project/chromedriver-binary/) PyPI package to do the downloading of the binary. Assuming you have installed that package into your runtime environment, all you need to do is import it, which extends your `PATH` so the driver binary is found at runtime."
   ]
  },
  {
   "cell_type": "code",
   "execution_count": 3,
   "metadata": {},
   "outputs": [
    {
     "name": "stdout",
     "output_type": "stream",
     "text": [
      "/opt/venvs/jupyterhub/lib/python3.6/site-packages/chromedriver_binary\n",
      "-rwxr-xr-x 1 root root 12M Feb 21 12:24 /opt/venvs/jupyterhub/lib/python3.6/site-packages/chromedriver_binary/chromedriver\n"
     ]
    }
   ],
   "source": [
    "import chromedriver_binary\n",
    "!echo $PATH | tr : \\\\n | grep chrome\n",
    "!ls -lh \"{chromedriver_binary.chromedriver_filename}\""
   ]
  },
  {
   "cell_type": "markdown",
   "metadata": {},
   "source": [
    "## Publishing Charts with `nbconvert`\n",
    "\n",
    "Since Altair is based on the Javascript-driven Vega, the internal notebook outputs are a mix of HTML and Javascript. With IPython 7.2.0 (later versions might fix this), a `jupyter nbconvert --execute --to html` call will produce *empty* output cells.\n",
    "\n",
    "To circumvent the problem, you can use HTML pointing to generated PNGs as the code cell output, instead of the Altair chart object itself. This is also more ‘git-friendly’ when you commit output cells, since the binary image data is stored in extra files and does not inflate the diffs for the notebook."
   ]
  },
  {
   "cell_type": "code",
   "execution_count": 4,
   "metadata": {},
   "outputs": [
    {
     "data": {
      "text/html": [
       "<img src=\"img/ascii_bars.png?1550494212.826586\"></img>"
      ],
      "text/plain": [
       "<IPython.core.display.HTML object>"
      ]
     },
     "execution_count": 4,
     "metadata": {},
     "output_type": "execute_result"
    }
   ],
   "source": [
    "import pandas as pd\n",
    "import altair as alt\n",
    "\n",
    "def render_chart(chart, name, scale_factor=1.0, ext='png', publish=1):\n",
    "    \"\"\"Helper for chart output via non-embedded PNG images.\"\"\"\n",
    "    import time\n",
    "    from IPython.display import HTML\n",
    "\n",
    "    chart_img = \"img/{}.{}\".format(name, ext)\n",
    "    chart.save(chart_img, scale_factor=scale_factor)\n",
    "    if publish:\n",
    "        return HTML('<img src=\"{}?{}\"></img>'\n",
    "                    .format(chart_img, time.time()))\n",
    "    else:  # return interactive original chart object when not publishing \n",
    "        return chart\n",
    "\n",
    "letters = list(\"Altair\")\n",
    "df = pd.DataFrame(dict(Letter=letters, Code=list(map(ord, letters))))\n",
    "\n",
    "chart = alt.Chart(df).mark_bar().encode(\n",
    "    y=alt.Y('Letter', sort=letters),\n",
    "    x='Code',\n",
    ").configure_view(height=150)\n",
    "\n",
    "render_chart(chart, \"ascii_bars\")"
   ]
  }
 ],
 "metadata": {
  "kernelspec": {
   "display_name": "Python 3",
   "language": "python",
   "name": "python3"
  },
  "language_info": {
   "codemirror_mode": {
    "name": "ipython",
    "version": 3
   },
   "file_extension": ".py",
   "mimetype": "text/x-python",
   "name": "python",
   "nbconvert_exporter": "python",
   "pygments_lexer": "ipython3",
   "version": "3.6.8"
  }
 },
 "nbformat": 4,
 "nbformat_minor": 2
}
