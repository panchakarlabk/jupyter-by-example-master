{
 "cells": [
  {
   "cell_type": "markdown",
   "metadata": {},
   "source": [
    "# Data Visualization with Bokeh\n",
    "\n",
    "[Bokeh](https://bokeh.pydata.org/) is an interactive visualization library that targets modern web browsers for presentation. Its goal is to provide elegant, concise construction of versatile graphics, and to extend this capability with high-performance interactivity over very large or streaming datasets. Bokeh can help anyone who would like to quickly and easily create interactive plots, dashboards, and data applications.\n",
    "\n",
    "See [Jupyter Notebooks](https://bokeh.pydata.org/en/latest/docs/user_guide/quickstart.html#jupyter-notebooks) in the user guide regarding details of using Bokeh within Jupyter. Also consider the [bokeh-notebooks](https://github.com/bokeh/bokeh-notebooks) project, offering examples and a tutorial to get you started. "
   ]
  },
  {
   "cell_type": "markdown",
   "metadata": {},
   "source": [
    "## Bokeh Global Configuration\n",
    "\n",
    "If your kernel runs on a system without internet access, you need to disable the CDN integration which is active by default.\n",
    "\n",
    "Also, for the classic notebook, Bokeh needs to be bootstrapped by calling `output_notebook` once, similar to Seaborn."
   ]
  },
  {
   "cell_type": "code",
   "execution_count": 1,
   "metadata": {},
   "outputs": [
    {
     "name": "stdout",
     "output_type": "stream",
     "text": [
      "env: BOKEH_PHANTOMJS_PATH=/opt/venvs/jupyterhub/lib/python3.6/site-packages/phantomjs_bin/bin/linux/phantomjs\n"
     ]
    }
   ],
   "source": [
    "# Use inline resources (no use of the CDN)\n",
    "##%env BOKEH_RESOURCES=inline\n",
    "\n",
    "# Try to locate PhantomJS install\n",
    "try:\n",
    "    import phantomjs_bin\n",
    "    %env BOKEH_PHANTOMJS_PATH={phantomjs_bin.executable_path}\n",
    "    del phantomjs_bin\n",
    "except ImportError:\n",
    "    pass\n",
    "\n",
    "# Register chart rendering\n",
    "from bokeh.io import output_notebook\n",
    "output_notebook()"
   ]
  },
  {
   "cell_type": "markdown",
   "metadata": {},
   "source": [
    "Like in the *Altair* notebook, we define a function that helps producing PNG chart images. You need to install PhantomJS for this (e.g. `pip install phantomjs-binary`), and point the `BOKEH_PHANTOMJS_PATH` environment variable to the `phantomjs` executable file. We did just that in the initialization code above."
   ]
  },
  {
   "cell_type": "code",
   "execution_count": 2,
   "metadata": {},
   "outputs": [],
   "source": [
    "def render_chart(chart, name, scale_factor=1.0, ext='png', publish=1):\n",
    "    \"\"\"Helper for chart output via non-embedded PNG images.\"\"\"\n",
    "    import time\n",
    "    from IPython.display import HTML\n",
    "    from bokeh.io import export_png\n",
    "    from bokeh.plotting import show\n",
    "\n",
    "    chart_img = \"img/{}.{}\".format(name, ext)\n",
    "    if publish:\n",
    "        export_png(chart, filename=chart_img)\n",
    "        return HTML('<img src=\"{}?{}\"></img>'\n",
    "                    .format(chart_img, time.time()))\n",
    "    else:  # return interactive chart object when not publishing\n",
    "        return show(chart)"
   ]
  },
  {
   "cell_type": "markdown",
   "metadata": {},
   "source": [
    "## A Sample Plot"
   ]
  },
  {
   "cell_type": "code",
   "execution_count": 3,
   "metadata": {},
   "outputs": [
    {
     "data": {
      "text/html": [
       "<img src=\"img/bokeh_iris.png?1551019917.356873\"></img>"
      ],
      "text/plain": [
       "<IPython.core.display.HTML object>"
      ]
     },
     "execution_count": 3,
     "metadata": {},
     "output_type": "execute_result"
    }
   ],
   "source": [
    "from bokeh.plotting import figure, show, output_file\n",
    "from bokeh.sampledata.iris import flowers\n",
    "\n",
    "colormap = {'setosa': 'red', 'versicolor': 'green', 'virginica': 'blue'}\n",
    "colors = [colormap[x] for x in flowers['species']]\n",
    "\n",
    "p = figure(title=\"Iris Morphology\", width=720, height=240, tools='')\n",
    "p.xaxis.axis_label = 'Petal Length'\n",
    "p.yaxis.axis_label = 'Petal Width'\n",
    "p.circle(flowers[\"petal_length\"], flowers[\"petal_width\"],\n",
    "         color=colors, fill_alpha=0.2, size=10)\n",
    "\n",
    "\n",
    "#output_file(\"iris.html\", title=\"Iris Morphology\")\n",
    "#show(p)\n",
    "render_chart(p, \"bokeh_iris\")"
   ]
  }
 ],
 "metadata": {
  "kernelspec": {
   "display_name": "Python 3",
   "language": "python",
   "name": "python3"
  },
  "language_info": {
   "codemirror_mode": {
    "name": "ipython",
    "version": 3
   },
   "file_extension": ".py",
   "mimetype": "text/x-python",
   "name": "python",
   "nbconvert_exporter": "python",
   "pygments_lexer": "ipython3",
   "version": "3.6.7"
  }
 },
 "nbformat": 4,
 "nbformat_minor": 2
}
