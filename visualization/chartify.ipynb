{
 "cells": [
  {
   "cell_type": "markdown",
   "metadata": {},
   "source": [
    "# Data Visualization with Chartify\n",
    "\n",
    "[Chartify](https://github.com/spotify/chartify) is a wrapper around Bokeh. It strives to simplify the creation of chart types you use most in your daily work, while still retaining the full power of Bokeh, in case you need it.\n",
    "\n",
    "**Links**\n",
    "* [Introducing Chartify: Easier chart creation in Python for data scientists](https://labs.spotify.com/2018/11/15/introducing-chartify-easier-chart-creation-in-python-for-data-scientists/)\n",
    "* [Examples Notebook](https://nbviewer.jupyter.org/github/spotify/chartify/blob/master/examples/Examples.ipynb)\n",
    "* [Tutorial Notebook](https://nbviewer.jupyter.org/github/spotify/chartify/blob/master/examples/Chartify+Tutorial.ipynb)\n",
    "* [SO 'chartify' Questions](https://stackoverflow.com/questions/tagged/chartify)\n"
   ]
  },
  {
   "cell_type": "code",
   "execution_count": null,
   "metadata": {},
   "outputs": [],
   "source": [
    "import chromedriver_binary\n",
    "import chartify\n",
    "\n",
    "chartify.examples.plot_bar()"
   ]
  }
 ],
 "metadata": {
  "kernelspec": {
   "display_name": "Python 3",
   "language": "python",
   "name": "python3"
  },
  "language_info": {
   "codemirror_mode": {
    "name": "ipython",
    "version": 3
   },
   "file_extension": ".py",
   "mimetype": "text/x-python",
   "name": "python",
   "nbconvert_exporter": "python",
   "pygments_lexer": "ipython3",
   "version": "3.6.7"
  }
 },
 "nbformat": 4,
 "nbformat_minor": 2
}
