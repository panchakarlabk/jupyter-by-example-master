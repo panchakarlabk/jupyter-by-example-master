{
 "cells": [
  {
   "cell_type": "markdown",
   "metadata": {},
   "source": [
    "# Data Visualization with plotly\n",
    "\n",
    "[plotly](https://help.plot.ly/) allows you to create interactive, D3 and WebGL charts in Python – plus all the chart types of matplotlib and more. Plotly’s Python library is free, open-source, and does not require an online plot.ly account.\n",
    "\n",
    "The `cufflinks` package binds *plotly* directly to *Pandas* dataframes."
   ]
  },
  {
   "cell_type": "code",
   "execution_count": null,
   "metadata": {
    "scrolled": true
   },
   "outputs": [],
   "source": [
    "import plotly.offline as py\n",
    "import plotly.graph_objs as go\n",
    "import plotly.figure_factory as ff\n",
    "import cufflinks\n",
    "import pandas as pd\n",
    "\n",
    "use_cdn = True  # use CDN, or embed about 6 MiB of JS?\n",
    "cufflinks.go_offline(connected=use_cdn)\n",
    "py.init_notebook_mode(connected=use_cdn)\n",
    "\n",
    "data_baseurl = \"https://raw.githubusercontent.com/plotly/datasets/master/\""
   ]
  },
  {
   "cell_type": "markdown",
   "metadata": {},
   "source": [
    "## Loading the Dataset"
   ]
  },
  {
   "cell_type": "code",
   "execution_count": null,
   "metadata": {},
   "outputs": [],
   "source": [
    "df = pd.read_csv(data_baseurl + \"school_earnings.csv\")\n",
    "table = ff.create_table(df.loc[0:2])\n",
    "py.iplot(table, filename='jupyter-by-example-table1')"
   ]
  },
  {
   "cell_type": "markdown",
   "metadata": {},
   "source": [
    "## Single Variable Histogram"
   ]
  },
  {
   "cell_type": "code",
   "execution_count": null,
   "metadata": {},
   "outputs": [],
   "source": [
    "df.Gap.iplot(kind='hist', xTitle='gap', yTitle='count', \n",
    "             title='Distribution of Earnings Gaps')"
   ]
  },
  {
   "cell_type": "markdown",
   "metadata": {},
   "source": [
    "## Scatter Plot"
   ]
  },
  {
   "cell_type": "code",
   "execution_count": null,
   "metadata": {},
   "outputs": [],
   "source": [
    "combined = pd.concat((\n",
    "        df['School'].to_frame().assign(Gender='W', Earnings=df.Women),\n",
    "        df['School'].to_frame().assign(Gender='M', Earnings=df.Men),\n",
    "    ), ignore_index=True)\n",
    "combined.loc[combined.School == 'MIT']"
   ]
  },
  {
   "cell_type": "code",
   "execution_count": null,
   "metadata": {},
   "outputs": [],
   "source": [
    "combined.iplot(\n",
    "    title='Earnings by School and Gender',\n",
    "    x='School', #xTitle='School',\n",
    "    y='Earnings', yTitle='Earnings',\n",
    "    categories='Gender', \n",
    "    #text='School',\n",
    ")"
   ]
  },
  {
   "cell_type": "markdown",
   "metadata": {},
   "source": [
    "## Using plotly express\n",
    "\n",
    "See the [Plotly Express Gallery](https://plotly.github.io/plotly_express/) for some more examples, and links to detailed information."
   ]
  },
  {
   "cell_type": "code",
   "execution_count": null,
   "metadata": {},
   "outputs": [],
   "source": [
    "import plotly_express as px\n",
    "\n",
    "px.scatter(combined,\n",
    "    title='Earnings by School and Gender',\n",
    "    x='School', y='Earnings', color='Gender', \n",
    "    marginal_y=\"box\",\n",
    ")"
   ]
  }
 ],
 "metadata": {
  "kernelspec": {
   "display_name": "Python 3",
   "language": "python",
   "name": "python3"
  },
  "language_info": {
   "codemirror_mode": {
    "name": "ipython",
    "version": 3
   },
   "file_extension": ".py",
   "mimetype": "text/x-python",
   "name": "python",
   "nbconvert_exporter": "python",
   "pygments_lexer": "ipython3",
   "version": "3.6.7"
  }
 },
 "nbformat": 4,
 "nbformat_minor": 2
}
