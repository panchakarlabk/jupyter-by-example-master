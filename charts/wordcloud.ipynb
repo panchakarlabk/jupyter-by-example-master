{
 "cells": [
  {
   "cell_type": "markdown",
   "metadata": {},
   "source": [
    "# Word Clouds\n",
    "<img src=\"img/wordcloud-logo.png\" style=\"float: right; width: 240px; padding-left: 1em;\"></img>\n",
    "\n",
    "Word clouds are images composed of words used in a particular text or context, where the size of each word indicates its frequency or importance.\n",
    "\n",
    "## Installing libraries & tools\n",
    "\n",
    "You'll need these Python packages installed: `numpy`, `pandas`, `matplotlib`, `pillow`, and `wordcloud`.\n",
    "\n",
    "In case you get a `The _imagingft C module is not installed` error when trying to build your wordcloud, try to install Pillow from source:\n",
    "\n",
    "    sudo apt install libfreetype6-dev\n",
    "    python3 -m pip install -I --no-binary :all: pillow"
   ]
  },
  {
   "cell_type": "markdown",
   "metadata": {},
   "source": [
    "## Setting the stage\n",
    "\n",
    "> *The notebook, data, and images can be found [here](https://github.com/jhermann/jupyter-by-example/tree/master/charts).*\n",
    "\n",
    "First, import all the needed libraries:"
   ]
  },
  {
   "cell_type": "code",
   "execution_count": 1,
   "metadata": {},
   "outputs": [],
   "source": [
    "import os\n",
    "import time\n",
    "import random\n",
    "import collections\n",
    "import numpy as np\n",
    "import pandas as pd\n",
    "import matplotlib.pyplot as plt\n",
    "from IPython.display import HTML, clear_output\n",
    "from PIL import Image\n",
    "from wordcloud import WordCloud, STOPWORDS, ImageColorGenerator\n",
    "\n",
    "%matplotlib notebook"
   ]
  },
  {
   "cell_type": "markdown",
   "metadata": {},
   "source": [
    "## Loading a word list or text\n",
    "\n",
    "The words are in a text file, one word (or short phrase) per line."
   ]
  },
  {
   "cell_type": "code",
   "execution_count": 2,
   "metadata": {
    "scrolled": true
   },
   "outputs": [
    {
     "data": {
      "text/plain": [
       "[('Pandas', 9),\n",
       " ('NumPy', 6),\n",
       " ('Dataframe', 5),\n",
       " ('Time series', 5),\n",
       " ('Python', 4),\n",
       " ('Data Science', 3),\n",
       " ('Statistics', 3),\n",
       " ('Data Analysis', 2),\n",
       " ('Data Structures', 1),\n",
       " ('Mutability', 1),\n",
       " ('Tool', 1),\n",
       " ('flexible', 1),\n",
       " ('expressive', 1),\n",
       " ('Tabular', 1)]"
      ]
     },
     "execution_count": 2,
     "metadata": {},
     "output_type": "execute_result"
    }
   ],
   "source": [
    "with open('../data/wordcloud.txt') as handle:\n",
    "    words = [x.strip() for x in handle]\n",
    "collections.Counter(words).most_common()"
   ]
  },
  {
   "cell_type": "markdown",
   "metadata": {},
   "source": [
    "### Rendering the word cloud\n",
    "\n",
    "This code then creates the word cloud image from the word list."
   ]
  },
  {
   "cell_type": "code",
   "execution_count": 3,
   "metadata": {
    "scrolled": true
   },
   "outputs": [
    {
     "data": {
      "text/html": [
       "<img src=\"img/wordcloud.png?1556885791.470097\"></img>"
      ],
      "text/plain": [
       "<IPython.core.display.HTML object>"
      ]
     },
     "execution_count": 3,
     "metadata": {},
     "output_type": "execute_result"
    }
   ],
   "source": [
    "random.shuffle(words)\n",
    "wordcloud = WordCloud(\n",
    "    width=720, height=320, margin=5,\n",
    "    prefer_horizontal=0.6,\n",
    "    mask=np.array(Image.open('img/panda-mask.png')),\n",
    "    contour_width=3, contour_color='black',\n",
    "    background_color='white',\n",
    ").generate('\\n'.join(words))\n",
    "\n",
    "chart_img = 'img/wordcloud.png'\n",
    "plt.axis(\"off\")\n",
    "wordcloud.to_file(chart_img)\n",
    "clear_output()\n",
    "HTML('<img src=\"{}?{}\"></img>'.format(chart_img, time.time()))"
   ]
  },
  {
   "cell_type": "markdown",
   "metadata": {},
   "source": [
    "The above code uses this image mask to give the word ‘cloud’ a specific shape.\n",
    "\n",
    "<img src=\"img/panda-mask.png\"></img>\n",
    "\n",
    "As you can see, black marks the region for inserting words, while white is background. You can also use colored images, see the [Generating WordClouds in Python](https://www.datacamp.com/community/tutorials/wordcloud-python) article for details."
   ]
  },
  {
   "cell_type": "code",
   "execution_count": 4,
   "metadata": {},
   "outputs": [],
   "source": [
    "# execute this cell for docs\n",
    "?WordCloud"
   ]
  },
  {
   "cell_type": "code",
   "execution_count": 5,
   "metadata": {
    "scrolled": false
   },
   "outputs": [],
   "source": [
    "#plt.imshow(wordcloud, interpolation='bilinear')\n",
    "#plt.show()"
   ]
  }
 ],
 "metadata": {
  "kernelspec": {
   "display_name": "Python 3",
   "language": "python",
   "name": "python3"
  },
  "language_info": {
   "codemirror_mode": {
    "name": "ipython",
    "version": 3
   },
   "file_extension": ".py",
   "mimetype": "text/x-python",
   "name": "python",
   "nbconvert_exporter": "python",
   "pygments_lexer": "ipython3",
   "version": "3.6.8"
  }
 },
 "nbformat": 4,
 "nbformat_minor": 2
}
