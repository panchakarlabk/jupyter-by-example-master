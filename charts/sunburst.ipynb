{
 "cells": [
  {
   "cell_type": "markdown",
   "metadata": {},
   "source": [
    "# Sunburst Charts\n",
    "<img src=\"img/sunburst-logo.png\" style=\"float: right; padding-left: 1em;\"></img>\n",
    "\n",
    "Sunburst charts are stacked donut charts for multi-dimensional part-to-whole data, with the inner ring showing the first dimension, and getting more detailed towards the outer ring.\n",
    "\n",
    "The size of each section in a ring represents the percentage a classifier occupies in the related dimension.\n",
    "\n",
    "The data used here is from the SO answer linked in the next section."
   ]
  },
  {
   "cell_type": "code",
   "execution_count": 1,
   "metadata": {},
   "outputs": [],
   "source": [
    "%matplotlib notebook\n",
    "\n",
    "import time\n",
    "from pprint import pprint\n",
    "from IPython.display import HTML, clear_output\n",
    "import matplotlib.pyplot as plt\n",
    "import numpy as np\n",
    "import pandas as pd\n",
    "\n",
    "data = (\n",
    "    ('/', 100, (\n",
    "        ('home', 70, (\n",
    "            ('Images', 40, ()),\n",
    "            ('Videos', 20, ()),\n",
    "            ('Documents', 5, ()),\n",
    "        )),\n",
    "        ('usr', 15, (\n",
    "            ('src', 6, (\n",
    "                ('linux-headers', 4, ()),\n",
    "                ('virtualbox', 1, ()),\n",
    "\n",
    "            )),\n",
    "            ('lib', 4, ()),\n",
    "            ('share', 2, ()),\n",
    "            ('bin', 1, ()),\n",
    "            ('local', 1, ()),\n",
    "            ('include', 1, ()),\n",
    "        )),\n",
    "    )),\n",
    ")"
   ]
  },
  {
   "cell_type": "markdown",
   "metadata": {},
   "source": [
    "This code creates a dataframe with the percentages and a multi-index of the paths."
   ]
  },
  {
   "cell_type": "code",
   "execution_count": 2,
   "metadata": {},
   "outputs": [
    {
     "name": "stdout",
     "output_type": "stream",
     "text": [
      "                               percent\n",
      "0 1    2         3                    \n",
      "/                                  100\n",
      "  home                              70\n",
      "       Images                       40\n",
      "       Videos                       20\n",
      "       Documents                     5\n",
      "  usr                               15\n",
      "       src                           6\n",
      "                 linux-headers       4\n",
      "                 virtualbox          1\n",
      "       lib                           4\n",
      "       share                         2\n",
      "       bin                           1\n",
      "       local                         1\n",
      "       include                       1\n"
     ]
    }
   ],
   "source": [
    "def to_frame(data, path=()):\n",
    "    \"\"\"Generate dataframe rows from nested data.\"\"\"\n",
    "    for x in data:\n",
    "        yield path + (x[0],), x[1]\n",
    "        yield from to_frame(x[2], path + (x[0],))\n",
    "\n",
    "_rows = np.asarray(tuple(to_frame(data)))\n",
    "_index = pd.MultiIndex.from_frame(\n",
    "    pd.DataFrame(_rows[:, 0].tolist()).fillna(''))\n",
    "df = pd.DataFrame(data=_rows[:, 1], index=_index, columns=['percent'])\n",
    "print(df)"
   ]
  },
  {
   "cell_type": "markdown",
   "metadata": {},
   "source": [
    "## Using matplotlib\n",
    "\n",
    "The `sunburst` function is adapted from [this SO answer](https://stackoverflow.com/a/46790802/2748717) and only uses `matplotlib` without further dependencies."
   ]
  },
  {
   "cell_type": "code",
   "execution_count": 3,
   "metadata": {},
   "outputs": [],
   "source": [
    "def sunburst(nodes, total=np.pi * 2, offset=0, level=0, ax=None,\n",
    "             text_style=dict(color='white', fontsize=14, ha='center', va='center')):\n",
    "    ax = ax or plt.subplot(111, projection='polar')\n",
    "    text_style = text_style.copy()\n",
    "    text_style.update(fontsize=max(8, text_style['fontsize'] - level))\n",
    "\n",
    "    if level == 0 and len(nodes) == 1:\n",
    "        label, value, subnodes = nodes[0]\n",
    "        ax.bar([0], [0.5], [np.pi * 2])\n",
    "        ax.text(0, 0, label, **text_style)\n",
    "        sunburst(subnodes, total=value, \n",
    "                 level=level + 1, ax=ax, text_style=text_style)\n",
    "    elif nodes:\n",
    "        d = np.pi * 2 / total\n",
    "        labels = []\n",
    "        widths = []\n",
    "        local_offset = offset\n",
    "        for label, value, subnodes in nodes:\n",
    "            labels.append(label)\n",
    "            widths.append(value * d)\n",
    "            sunburst(subnodes, total=total, offset=local_offset,\n",
    "                     level=level + 1, ax=ax, text_style=text_style)\n",
    "            local_offset += value\n",
    "        values = np.cumsum([offset * d] + widths[:-1])\n",
    "        heights = [1] * len(nodes)\n",
    "        bottoms = np.zeros(len(nodes)) + level - 0.5\n",
    "        rects = ax.bar(values, heights, widths, bottoms, linewidth=1,\n",
    "                       edgecolor='white', align='edge')\n",
    "        for rect, label in zip(rects, labels):\n",
    "            x = rect.get_x() + rect.get_width() / 2\n",
    "            y = rect.get_y() + rect.get_height() / 2\n",
    "            rotation = (90 + (360 - np.degrees(x) % 180)) % 360\n",
    "            ax.text(x, y, label, rotation=rotation, **text_style) \n",
    "\n",
    "    if level == 0:\n",
    "        ax.set_theta_direction(-1)\n",
    "        ax.set_theta_zero_location('N')\n",
    "        ax.set_axis_off()"
   ]
  },
  {
   "cell_type": "markdown",
   "metadata": {},
   "source": [
    "Using that function, we plot the disk usage data defined previously."
   ]
  },
  {
   "cell_type": "code",
   "execution_count": 4,
   "metadata": {},
   "outputs": [
    {
     "data": {
      "text/html": [
       "<img src=\"img/sunburst-plt.png?1552230729.4666991\"></img>"
      ],
      "text/plain": [
       "<IPython.core.display.HTML object>"
      ]
     },
     "execution_count": 4,
     "metadata": {},
     "output_type": "execute_result"
    }
   ],
   "source": [
    "plt.rcParams[\"figure.figsize\"] = (11,) * 2\n",
    "sunburst(data)\n",
    "\n",
    "chart_img = 'img/sunburst-plt.png'\n",
    "plt.savefig(chart_img, dpi=90, transparent=True,\n",
    "            bbox_inches='tight', pad_inches=-0.5)\n",
    "clear_output()\n",
    "HTML('<img src=\\\"{}?{}\\\"></img>'.format(chart_img, time.time()))"
   ]
  },
  {
   "cell_type": "markdown",
   "metadata": {},
   "source": [
    "See also the similar [donut plot with subgroups](https://python-graph-gallery.com/163-donut-plot-with-subgroups/)."
   ]
  }
 ],
 "metadata": {
  "kernelspec": {
   "display_name": "Python 3",
   "language": "python",
   "name": "python3"
  },
  "language_info": {
   "codemirror_mode": {
    "name": "ipython",
    "version": 3
   },
   "file_extension": ".py",
   "mimetype": "text/x-python",
   "name": "python",
   "nbconvert_exporter": "python",
   "pygments_lexer": "ipython3",
   "version": "3.6.7"
  }
 },
 "nbformat": 4,
 "nbformat_minor": 2
}
