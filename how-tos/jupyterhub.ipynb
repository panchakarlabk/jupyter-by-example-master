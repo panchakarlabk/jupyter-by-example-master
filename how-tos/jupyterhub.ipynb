{
 "cells": [
  {
   "cell_type": "markdown",
   "metadata": {},
   "source": [
    "# JupyterHub Tips & Tricks\n",
    "\n",
    "Here are some useful hints for everyday JupyterHub use."
   ]
  },
  {
   "cell_type": "markdown",
   "metadata": {},
   "source": [
    "## Creating user-agnostic notebook links\n",
    "\n",
    "If you want to create links to a specific notebook path (e.g. in a README) that work for any user on a specific JupyterHub server, replace `user/«username»` in the normal notebook URL by `hub/user-redirect`.\n",
    "\n",
    "The resulting link looks like this:\n",
    "\n",
    "    https://«domain»/hub/user-redirect/notebooks/«name».ipynb\n",
    "    \n",
    "If you follow it, you will be promptly redirected to your copy of the notebook. That is quite useful in classroom settings, where each student has their own copy of notebooks, but all under the same relative paths."
   ]
  },
  {
   "cell_type": "markdown",
   "metadata": {},
   "source": [
    "## Controlling the Notebook Server Environment\n",
    "\n",
    "To inject environment variables into the spawned notebook server processes, use the `c.Spawner.env_keep` and `c.Spawner.environment` settings of `jupyterhub_config.py`.\n",
    "\n",
    "Here's an example:\n",
    "\n",
    "    c.Spawner.env_keep = ['LANG', 'LC_ALL']\n",
    "    \n",
    "    _ca_certs = '/etc/ssl/certs/ca-certificates.crt'\n",
    "    c.Spawner.environment = dict(\n",
    "        REQUESTS_CA_BUNDLE=_ca_certs,\n",
    "        PIP_CERT=_ca_certs,\n",
    "    )\n"
   ]
  },
  {
   "cell_type": "markdown",
   "metadata": {},
   "source": [
    "## Hooking Into the Single-user Launch\n",
    "\n",
    "If you change the spawner command in `juptyerhub_config.py`, you can add custom initializaton like activating runtime environments or changing some env vars.\n",
    "\n",
    "    c.Spawner.cmd = \"/usr/local/sbin/jupyter-launcher\"\n",
    "    \n",
    "**/usr/local/sbin/jupyter-launcher**\n",
    "\n",
    "    #! /usr/bin/env bash\n",
    "    export PATH=\"something:${PATH}\"\n",
    "\n",
    "    # pass control to Jupyter\n",
    "    exec jupyterhub-singleuser \"$@\"\n",
    "\n",
    "\n"
   ]
  }
 ],
 "metadata": {
  "kernelspec": {
   "display_name": "Python 3",
   "language": "python",
   "name": "python3"
  },
  "language_info": {
   "codemirror_mode": {
    "name": "ipython",
    "version": 3
   },
   "file_extension": ".py",
   "mimetype": "text/x-python",
   "name": "python",
   "nbconvert_exporter": "python",
   "pygments_lexer": "ipython3",
   "version": "3.6.7"
  }
 },
 "nbformat": 4,
 "nbformat_minor": 2
}
