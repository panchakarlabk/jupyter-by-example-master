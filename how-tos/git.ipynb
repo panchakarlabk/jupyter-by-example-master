{
 "cells": [
  {
   "cell_type": "markdown",
   "metadata": {},
   "source": [
    "# Using git with Jupyter Notebooks\n",
    "\n",
    "When storing notebooks in git, it is preferable to *not* also commit the output cells, because otherwise diffs become unwieldy. Even with the preview features in many git web UIs, there are better ways for publishing full notebooks, see the `publish` directory in this repository for details."
   ]
  },
  {
   "cell_type": "markdown",
   "metadata": {},
   "source": [
    "## Committing Clean Notebooks Manually\n",
    "\n",
    "The easiest way to get a clean notebook that nicely fits into git is to call the `Cell » All Output » Clear` menu item, then save and finally commit the notebook. Restore the output cells using `Cell » Run All`.\n",
    "\n",
    "If you want to be sure that there are no hidden state problems (order of cell execution, disappeared variable definitions, …), then use `Kernel » Restart & Clear Output` followed by `Cell » Run All`. Finally before the commit, call `Cell » All Output » Clear`."
   ]
  },
  {
   "cell_type": "markdown",
   "metadata": {},
   "source": [
    "## Pushing Text-Only Notebooks\n",
    "\n",
    "If you want to use the preview of GitHub and similar web interfaces\n",
    "*including* results, the prime goal is to avoid the lengthy blobs of\n",
    "HTML text in output cells, that represent dataframe tables or images. \n",
    "\n",
    "For textual output, simply `print(…)` the objects instead of \n",
    "having them as the last expression in a cell.\n",
    "\n",
    "For images, this can be done by storing created charts as PNG files and \n",
    "then putting HTML code into the output that references them."
   ]
  },
  {
   "cell_type": "code",
   "execution_count": 1,
   "metadata": {
    "scrolled": false
   },
   "outputs": [
    {
     "name": "stdout",
     "output_type": "stream",
     "text": [
      "   dataset     x     y\n",
      "0        I  10.0  8.04\n",
      "11      II  10.0  9.14\n",
      "22     III  10.0  7.46\n",
      "33      IV   8.0  6.58\n"
     ]
    },
    {
     "data": {
      "text/html": [
       "<img src=\"img/seaborn-lmplot.png?1553935796.8190546\"></img>"
      ],
      "text/plain": [
       "<IPython.core.display.HTML object>"
      ]
     },
     "execution_count": 1,
     "metadata": {},
     "output_type": "execute_result"
    }
   ],
   "source": [
    "%matplotlib notebook\n",
    "\n",
    "import time\n",
    "from IPython.display import HTML, clear_output\n",
    "import seaborn as sns\n",
    "\n",
    "df = sns.load_dataset(\"anscombe\")\n",
    "plot = sns.lmplot(x=\"x\", y=\"y\", col=\"dataset\", hue=\"dataset\", data=df,\n",
    "                  col_wrap=2, ci=None, palette=\"muted\", height=2,\n",
    "                  scatter_kws={\"s\": 50, \"alpha\": 1})\n",
    "\n",
    "chart_img = 'img/seaborn-lmplot.png'\n",
    "plot.savefig(chart_img)\n",
    "clear_output()\n",
    "print(df.drop_duplicates(subset='dataset'))\n",
    "HTML('<img src=\"{}?{}\"></img>'.format(chart_img, time.time()))"
   ]
  },
  {
   "cell_type": "markdown",
   "metadata": {},
   "source": [
    "## git Hook Configuration\n",
    "\n",
    "**TODO**"
   ]
  }
 ],
 "metadata": {
  "kernelspec": {
   "display_name": "Python 3",
   "language": "python",
   "name": "python3"
  },
  "language_info": {
   "codemirror_mode": {
    "name": "ipython",
    "version": 3
   },
   "file_extension": ".py",
   "mimetype": "text/x-python",
   "name": "python",
   "nbconvert_exporter": "python",
   "pygments_lexer": "ipython3",
   "version": "3.6.8"
  }
 },
 "nbformat": 4,
 "nbformat_minor": 2
}
