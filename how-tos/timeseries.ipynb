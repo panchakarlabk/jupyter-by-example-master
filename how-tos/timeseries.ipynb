{
 "cells": [
  {
   "cell_type": "markdown",
   "metadata": {},
   "source": [
    "# Pandas Timeseries\n",
    "\n",
    "Want to learn more than you find here? Then take a look at these sources:\n",
    "\n",
    " * [Basic Time Series Manipulation with Pandas](https://towardsdatascience.com/basic-time-series-manipulation-with-pandas-4432afee64ea)\n",
    " * [Dealing with Datetimes: A tutorial given at PyCon 2019](https://github.com/pganssle-talks/pycon-us-2019-dealing-with-datetimes)"
   ]
  },
  {
   "cell_type": "code",
   "execution_count": 1,
   "metadata": {},
   "outputs": [],
   "source": [
    "import pandas as pd"
   ]
  },
  {
   "cell_type": "markdown",
   "metadata": {},
   "source": [
    "## Creating Timeseries\n",
    "\n",
    "[date_range](https://pandas.pydata.org/pandas-docs/stable/reference/api/pandas.date_range.html) and its [exhaustive list of frequency choices](https://pandas.pydata.org/pandas-docs/stable/user_guide/timeseries.html#timeseries-offset-aliases) make it very easy to create a list of specific dates.\n",
    "\n",
    "For example, the list of all last *business* days in a month in 2019:"
   ]
  },
  {
   "cell_type": "code",
   "execution_count": 2,
   "metadata": {
    "scrolled": false
   },
   "outputs": [
    {
     "data": {
      "text/plain": [
       "DatetimeIndex(['2019-01-31', '2019-02-28', '2019-03-29', '2019-04-30',\n",
       "               '2019-05-31', '2019-06-28', '2019-07-31', '2019-08-30',\n",
       "               '2019-09-30', '2019-10-31', '2019-11-29', '2019-12-31'],\n",
       "              dtype='datetime64[ns]', freq='BM')"
      ]
     },
     "execution_count": 2,
     "metadata": {},
     "output_type": "execute_result"
    }
   ],
   "source": [
    "year = '2019'\n",
    "ts = pd.date_range(year, periods=12, freq='BM')\n",
    "ts"
   ]
  },
  {
   "cell_type": "code",
   "execution_count": 3,
   "metadata": {
    "scrolled": true
   },
   "outputs": [
    {
     "name": "stdout",
     "output_type": "stream",
     "text": [
      "     2019-01-31 2019-02-28 2019-03-29 2019-04-30 2019-05-31 2019-06-28\n",
      "DoW    Thursday   Thursday     Friday    Tuesday     Friday     Friday\n",
      "BM≠M          ☓          ☓          ✔          ☓          ☓          ✔\n",
      "\n",
      "     2019-07-31 2019-08-30 2019-09-30 2019-10-31 2019-11-29 2019-12-31\n",
      "DoW   Wednesday     Friday     Monday   Thursday     Friday    Tuesday\n",
      "BM≠M          ☓          ✔          ☓          ☓          ✔          ☓\n"
     ]
    }
   ],
   "source": [
    "df = pd.DataFrame(index=ts)\n",
    "df['DoW'] = df.index.weekday_name\n",
    "df['BM≠M'] = (df.index != pd.date_range(year, periods=12, freq='M'))\n",
    "df.iloc[:, -1] = df.iloc[:, -1].apply(lambda x: '✔' if x else '☓')\n",
    "print(df.iloc[:6, :].transpose())\n",
    "print()\n",
    "print(df.iloc[6:, :].transpose())"
   ]
  },
  {
   "cell_type": "markdown",
   "metadata": {},
   "source": [
    "Generated sequences like this can be used to filter or bin time series data, or create ‘nice’ (i.e. semantically meaningful) axis labels for a graph."
   ]
  },
  {
   "cell_type": "markdown",
   "metadata": {},
   "source": [
    "## Relative Date & Time Offsets\n",
    "To get a series like “first Thursday in the second week of each month”, you can add [DateOffset Objects](https://pandas.pydata.org/pandas-docs/stable/user_guide/timeseries.html#dateoffset-objects) like this:"
   ]
  },
  {
   "cell_type": "code",
   "execution_count": 4,
   "metadata": {},
   "outputs": [
    {
     "name": "stderr",
     "output_type": "stream",
     "text": [
      "/opt/venvs/jupyterhub/lib/python3.6/site-packages/pandas/core/arrays/datetimes.py:743: PerformanceWarning: Non-vectorized DateOffset being applied to Series or DatetimeIndex\n",
      "  \"or DatetimeIndex\", PerformanceWarning)\n"
     ]
    },
    {
     "data": {
      "text/plain": [
       "DatetimeIndex(['2019-01-10', '2019-02-14', '2019-03-14', '2019-04-11',\n",
       "               '2019-05-09', '2019-06-13', '2019-07-11', '2019-08-08',\n",
       "               '2019-09-12', '2019-10-10', '2019-11-14', '2019-12-12'],\n",
       "              dtype='datetime64[ns]', freq='WOM-2THU')"
      ]
     },
     "execution_count": 4,
     "metadata": {},
     "output_type": "execute_result"
    }
   ],
   "source": [
    "pd.date_range(year, periods=12, freq='MS') + pd.DateOffset(weeks=1, weekday=3)"
   ]
  },
  {
   "cell_type": "markdown",
   "metadata": {},
   "source": [
    "This works, but you'll get an ugly `PerformanceWarning` about non-vectorized application of a `DateOffset`. However, as you can see above, the resulting `DatetimeIndex` tells you the proper `freq` string to use."
   ]
  },
  {
   "cell_type": "code",
   "execution_count": 5,
   "metadata": {},
   "outputs": [
    {
     "data": {
      "text/plain": [
       "DatetimeIndex(['2019-01-10', '2019-02-14', '2019-03-14', '2019-04-11',\n",
       "               '2019-05-09', '2019-06-13', '2019-07-11', '2019-08-08',\n",
       "               '2019-09-12', '2019-10-10', '2019-11-14', '2019-12-12'],\n",
       "              dtype='datetime64[ns]', freq='WOM-2THU')"
      ]
     },
     "execution_count": 5,
     "metadata": {},
     "output_type": "execute_result"
    }
   ],
   "source": [
    "pd.date_range(year, periods=12, freq='WOM-2THU')"
   ]
  }
 ],
 "metadata": {
  "kernelspec": {
   "display_name": "Python 3",
   "language": "python",
   "name": "python3"
  },
  "language_info": {
   "codemirror_mode": {
    "name": "ipython",
    "version": 3
   },
   "file_extension": ".py",
   "mimetype": "text/x-python",
   "name": "python",
   "nbconvert_exporter": "python",
   "pygments_lexer": "ipython3",
   "version": "3.6.8"
  }
 },
 "nbformat": 4,
 "nbformat_minor": 2
}
